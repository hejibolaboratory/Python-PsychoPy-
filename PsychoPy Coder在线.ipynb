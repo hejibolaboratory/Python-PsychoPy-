{
 "cells": [
  {
   "attachments": {},
   "cell_type": "markdown",
   "metadata": {},
   "source": [
    "# PsychoPy Coder在线\n",
    "# 何吉波\n",
    "hejibolaboratory@pku.org.cn"
   ]
  },
  {
   "cell_type": "code",
   "execution_count": 1,
   "metadata": {},
   "outputs": [
    {
     "name": "stdout",
     "output_type": "stream",
     "text": [
      "pygame 2.1.2 (SDL 2.0.18, Python 3.10.4)\n",
      "Hello from the pygame community. https://www.pygame.org/contribute.html\n"
     ]
    },
    {
     "name": "stderr",
     "output_type": "stream",
     "text": [
      "2023-03-29 20:33:25.421 Python[14855:794899] ApplePersistenceIgnoreState: Existing state will not be touched. New state will be written to /var/folders/9v/4xh5ctqs35ngx8vwd2x_gy_r0000gn/T/org.python.python.savedState\n",
      "Fontconfig warning: ignoring UTF-8: not a valid region tag\n"
     ]
    }
   ],
   "source": [
    "# Import modules\n",
    "from psychopy import visual, core\n",
    "\n",
    "# Create a window\n",
    "window = visual.Window([400,400])\n",
    "\n",
    "# Prepare a fixation point (we will draw it in the next step)\n",
    "fixation = visual.TextStim(window, text='+')\n",
    "\n",
    "# Draw the stimulus\n",
    "fixation.draw()\n",
    "\n",
    "# Refresh/update the window (with the fixation point drawn on)\n",
    "window.flip()\n",
    "\n",
    "# Show the fixation point for 2 seconds\n",
    "core.wait(2.0)\n",
    "\n",
    "# Prepare the first stimulus\n",
    "message = visual.TextStim(window, text='Stimulus!')\n",
    "\n",
    "# Draw the stimulus\n",
    "message.draw()\n",
    "\n",
    "# Show the window after drawing the stimulus\n",
    "window.flip()\n",
    "\n",
    "# Display the stimulus for 2 seconds\n",
    "core.wait(2.0)"
   ]
  }
 ],
 "metadata": {
  "kernelspec": {
   "display_name": "Python 3",
   "language": "python",
   "name": "python3"
  },
  "language_info": {
   "codemirror_mode": {
    "name": "ipython",
    "version": 3
   },
   "file_extension": ".py",
   "mimetype": "text/x-python",
   "name": "python",
   "nbconvert_exporter": "python",
   "pygments_lexer": "ipython3",
   "version": "3.10.4"
  },
  "orig_nbformat": 4
 },
 "nbformat": 4,
 "nbformat_minor": 2
}
