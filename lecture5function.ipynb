{
 "cells": [
  {
   "attachments": {},
   "cell_type": "markdown",
   "metadata": {},
   "source": [
    "第五讲，函数\n",
    "\n",
    "何吉波\n",
    "hejibo666@tsinghua.edu.cn\n",
    "# 目录\n",
    "1. 内置函数\n",
    "2. 如何定义函数？"
   ]
  },
  {
   "cell_type": "code",
   "execution_count": 47,
   "metadata": {},
   "outputs": [
    {
     "name": "stdout",
     "output_type": "stream",
     "text": [
      "54.0\n",
      "54.0\n"
     ]
    }
   ],
   "source": [
    "# 求平均数\n",
    "\n",
    "nums = [12,34,56,78,90]\n",
    "avg = sum(nums)/len(nums)\n",
    "print(avg)\n",
    "\n",
    "\n",
    "#另外一种写法\n",
    "import numpy\n",
    "print(numpy.average(nums))\n",
    "\n",
    "\n",
    "\n",
    "\n"
   ]
  },
  {
   "cell_type": "code",
   "execution_count": 48,
   "metadata": {},
   "outputs": [
    {
     "name": "stdout",
     "output_type": "stream",
     "text": [
      "54.0\n",
      "54.0\n"
     ]
    }
   ],
   "source": [
    "# 求平均数\n",
    "\n",
    "nums = [12,34,56,78,90]\n",
    "avg = sum(nums)/len(nums)\n",
    "print(avg)\n",
    "\n",
    "\n",
    "#另外一种写法\n",
    "import numpy\n",
    "print(numpy.average(nums))\n",
    "\n",
    "\n",
    "\n",
    "\n"
   ]
  },
  {
   "attachments": {},
   "cell_type": "markdown",
   "metadata": {},
   "source": [
    "# 内置函数\n",
    "- min\n",
    "- max\n",
    "- sum\n",
    "没有average,没有mean这个求平均的内置函数"
   ]
  },
  {
   "cell_type": "code",
   "execution_count": 49,
   "metadata": {},
   "outputs": [
    {
     "name": "stdout",
     "output_type": "stream",
     "text": [
      "97\n",
      "65\n",
      "a\n"
     ]
    }
   ],
   "source": [
    "\"a\"<\"A\"\n",
    "\n",
    "print(ord('a'))\n",
    "print(ord('A'))\n",
    "print(chr(97))"
   ]
  },
  {
   "cell_type": "code",
   "execution_count": 50,
   "metadata": {},
   "outputs": [
    {
     "name": "stdout",
     "output_type": "stream",
     "text": [
      "54.0\n",
      "54.0\n"
     ]
    }
   ],
   "source": [
    "# 求平均数\n",
    "\n",
    "nums = [12,34,56,78,90]\n",
    "avg = sum(nums)/len(nums)\n",
    "print(avg)\n",
    "\n",
    "\n",
    "#另外一种写法\n",
    "import numpy\n",
    "print(numpy.average(nums))\n",
    "\n",
    "\n",
    "\n",
    "\n"
   ]
  },
  {
   "cell_type": "code",
   "execution_count": 51,
   "metadata": {},
   "outputs": [
    {
     "name": "stdout",
     "output_type": "stream",
     "text": [
      "w\n"
     ]
    }
   ],
   "source": [
    "print(max(\"hello world\"))\n",
    "\n",
    "#print(min((1,2,3,4,5,6,7)))"
   ]
  },
  {
   "attachments": {},
   "cell_type": "markdown",
   "metadata": {},
   "source": [
    "# 2.1. 如何定义函数\n",
    "\n",
    "def __lookup__() 内置函数，求求别碰。\n",
    "\n",
    "# 2.2. 如何调用函数\n",
    "ILovePython()"
   ]
  },
  {
   "cell_type": "code",
   "execution_count": 52,
   "metadata": {},
   "outputs": [],
   "source": [
    "#print(min((1,2,3,4,5,6,7)))\n"
   ]
  },
  {
   "cell_type": "code",
   "execution_count": 53,
   "metadata": {},
   "outputs": [
    {
     "name": "stdout",
     "output_type": "stream",
     "text": [
      "I love python\n",
      "\n"
     ]
    }
   ],
   "source": [
    "def ILovePython():\n",
    "    print(\"I love python\\n\")\n",
    "\n",
    "ILovePython()"
   ]
  },
  {
   "cell_type": "code",
   "execution_count": 54,
   "metadata": {},
   "outputs": [
    {
     "name": "stdout",
     "output_type": "stream",
     "text": [
      "I love python\n",
      "\n"
     ]
    }
   ],
   "source": [
    "# warning. 函数命名重复\n",
    "#print(min((1,2,3,4,5,6,7)))\n",
    "def min():\n",
    "    print(\"I love python\\n\")\n",
    "\n",
    "min()\n",
    "#print(min((1,2,3,4,5,6,7)))\n"
   ]
  },
  {
   "attachments": {},
   "cell_type": "markdown",
   "metadata": {},
   "source": [
    "# 2.3 函数输入变量\n",
    "## 可选变量\n",
    "## 全局变量\n",
    "## 局部变量"
   ]
  },
  {
   "cell_type": "code",
   "execution_count": 55,
   "metadata": {},
   "outputs": [
    {
     "name": "stdout",
     "output_type": "stream",
     "text": [
      "I love php\n",
      "\n",
      "php\n",
      "php\n"
     ]
    }
   ],
   "source": [
    "def ILovePython(localVar,defaultVar =\"python\"):\n",
    "    global globalVar\n",
    "    globalVar=localVar\n",
    "    print(\"I love %s\\n\"%localVar)\n",
    "    print(localVar)\n",
    "\n",
    "\n",
    "object=\"php\"\n",
    "ILovePython(object)\n",
    "print(globalVar)\n",
    "#print(localVar)\n",
    "globalVar=\"hahah\"\n",
    "\n"
   ]
  },
  {
   "cell_type": "code",
   "execution_count": null,
   "metadata": {},
   "outputs": [],
   "source": []
  },
  {
   "cell_type": "code",
   "execution_count": 56,
   "metadata": {},
   "outputs": [
    {
     "name": "stdout",
     "output_type": "stream",
     "text": [
      "I love php\n",
      "\n",
      "I love python\n",
      "\n",
      "I love php\n",
      "\n",
      "I love python\n",
      "\n",
      "I love php\n",
      "\n",
      "I love java\n",
      "\n"
     ]
    }
   ],
   "source": [
    "def ILovePython(localVar,defaultVar =\"python\"):\n",
    "    print(\"I love %s\\n\"%localVar)\n",
    "    print(\"I love %s\\n\"%defaultVar)\n",
    "object=\"php\"\n",
    "ILovePython(object)\n",
    "ILovePython(object,\"python\")\n",
    "ILovePython(object,\"java\")"
   ]
  },
  {
   "attachments": {},
   "cell_type": "markdown",
   "metadata": {},
   "source": [
    "# 4 函数返回值\n",
    "return "
   ]
  },
  {
   "cell_type": "code",
   "execution_count": 57,
   "metadata": {},
   "outputs": [
    {
     "name": "stdout",
     "output_type": "stream",
     "text": [
      "I love php\n",
      "\n",
      "I love java\n",
      "\n",
      "i love javasadfkajsdofkajsdfop\n",
      "I love php\n",
      "\n",
      "I love java\n",
      "\n",
      "('php', 'java', 'i love javasadfkajsdofkajsdfop')\n"
     ]
    }
   ],
   "source": [
    "def ILovePython(localVar,defaultVar =\"python\"):\n",
    "    print(\"I love %s\\n\"%localVar)\n",
    "    print(\"I love %s\\n\"%defaultVar)\n",
    "    return (localVar,defaultVar,\"i love javasadfkajsdofkajsdfop\")\n",
    "\n",
    "localVar,defaultVar,avariable = ILovePython(object,\"java\")\n",
    "print(avariable)\n",
    "bvariable = ILovePython(object,\"java\")\n",
    "print(bvariable)\n",
    "#localVar,defaultVar = ILovePython(object,\"java\")\n"
   ]
  }
 ],
 "metadata": {
  "kernelspec": {
   "display_name": "Python 3",
   "language": "python",
   "name": "python3"
  },
  "language_info": {
   "codemirror_mode": {
    "name": "ipython",
    "version": 3
   },
   "file_extension": ".py",
   "mimetype": "text/x-python",
   "name": "python",
   "nbconvert_exporter": "python",
   "pygments_lexer": "ipython3",
   "version": "3.10.4"
  },
  "orig_nbformat": 4
 },
 "nbformat": 4,
 "nbformat_minor": 2
}
